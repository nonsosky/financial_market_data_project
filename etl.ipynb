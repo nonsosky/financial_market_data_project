{
 "cells": [
  {
   "cell_type": "markdown",
   "metadata": {},
   "source": [
    "### Import Libraries"
   ]
  },
  {
   "cell_type": "code",
   "execution_count": null,
   "metadata": {},
   "outputs": [],
   "source": [
    "pip install yfinance"
   ]
  },
  {
   "cell_type": "code",
   "execution_count": null,
   "metadata": {},
   "outputs": [],
   "source": [
    "import os\n",
    "import dotenv\n",
    "import yfinance as yf\n",
    "from pyspark.sql import SparkSession\n",
    "import pandas as pd"
   ]
  },
  {
   "cell_type": "markdown",
   "metadata": {},
   "source": [
    "#### Extraction Layer"
   ]
  },
  {
   "cell_type": "code",
   "execution_count": null,
   "metadata": {},
   "outputs": [],
   "source": [
    "\n",
    "# Set Java Environment\n",
    "os.environ['JAVA_HOME'] = \"C:/java8\"\n",
    "\n",
    "# Initialize Spark session\n",
    "spark = SparkSession.builder.appName(\"StockData\").getOrCreate()\n",
    "\n",
    "# os.environ['PYSPARK_PYTHON'] = sys.executable\n",
    "# os.environ['PYSPARK_DRIVER_PYTHON'] = sys.executable\n"
   ]
  },
  {
   "cell_type": "code",
   "execution_count": null,
   "metadata": {},
   "outputs": [],
   "source": [
    "# dotenv.load_dotenv()\n",
    "\n",
    "# API_KEY = os.getenv('API_KEY')\n",
    "\n",
    "# print(API_KEY)"
   ]
  },
  {
   "cell_type": "code",
   "execution_count": null,
   "metadata": {},
   "outputs": [],
   "source": [
    "# Data Ingestion for AlphaVanage\n",
    "# symbols = [\"AAPL, \"GOOGL\", \"MSFT\", \"AMZN\", \"TSLA\", \"IBM\"]\n",
    "\n",
    "# alphavantage_data = {}\n",
    "# for symbol in symbols:\n",
    "#     BASE_URL = f'https://www.alphavantage.co/query?function=TIME_SERIES_DAILY&symbol={symbol}&apikey={API_KEY}'\n",
    "#     response = requests.get(BASE_URL)\n",
    "#     if response.status_code == 200:\n",
    "#         data = response.json()\n",
    "#         if \"Time Series (Daily)\" in data:\n",
    "#             alphavantage_data[symbol] = data[\"Time Series (Daily)\"]\n",
    "#             print(f\"Fetched data for {symbol}\")\n",
    "#         else:\n",
    "#             print(f\"No data found for {symbol} or API limit reached\")\n",
    "#     else:\n",
    "#         print(f\"Unable to fetch data for {symbol}\")"
   ]
  },
  {
   "cell_type": "code",
   "execution_count": null,
   "metadata": {},
   "outputs": [],
   "source": [
    "#Data Ingestion for YahooFinance\n",
    "tickers = [\"AAPL\", \"GOOGL\", \"MSFT\", \"AMZN\", \"TSLA\", \"IBM\"]\n",
    "\n",
    "stock_data = yf.download(tickers, period=\"1mo\", interval=\"1d\", group_by='ticker', threads=True)\n",
    "\n",
    "# Empty Spark DataFrame to combine all\n",
    "stock_df = None\n",
    "\n",
    "# Prepare a list to store dataframes\n",
    "dataframes = []\n",
    "\n",
    "# Iterate through the tickers and process the data\n",
    "for ticker in tickers:\n",
    "    # Get the data for each ticker\n",
    "    ticker_data = stock_data[ticker].reset_index()  # Reset index for Date as a column\n",
    "    ticker_data['Ticker'] = ticker  # Add a 'Ticker' column\n",
    "    dataframes.append(ticker_data)\n",
    "\n",
    "# Merge all the dataframes into one\n",
    "merged_df = pd.concat(dataframes, ignore_index=True)\n",
    "\n",
    "# Convert the merged pandas dataframe to a PySpark dataframe\n",
    "spark_df = spark.createDataFrame(merged_df)\n",
    "\n",
    "# Show the schema and first few rows\n",
    "spark_df.printSchema()\n",
    "spark_df.show(5)\n"
   ]
  },
  {
   "cell_type": "code",
   "execution_count": null,
   "metadata": {},
   "outputs": [],
   "source": [
    "print(data.columns)"
   ]
  },
  {
   "cell_type": "markdown",
   "metadata": {},
   "source": [
    "#### Transformation Layer"
   ]
  },
  {
   "cell_type": "code",
   "execution_count": null,
   "metadata": {},
   "outputs": [],
   "source": []
  }
 ],
 "metadata": {
  "kernelspec": {
   "display_name": "base",
   "language": "python",
   "name": "python3"
  },
  "language_info": {
   "codemirror_mode": {
    "name": "ipython",
    "version": 3
   },
   "file_extension": ".py",
   "mimetype": "text/x-python",
   "name": "python",
   "nbconvert_exporter": "python",
   "pygments_lexer": "ipython3",
   "version": "3.12.3"
  }
 },
 "nbformat": 4,
 "nbformat_minor": 2
}
